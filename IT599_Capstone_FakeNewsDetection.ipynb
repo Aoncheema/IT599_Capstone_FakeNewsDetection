{
  "nbformat": 4,
  "nbformat_minor": 0,
  "metadata": {
    "colab": {
      "provenance": [],
      "gpuType": "T4"
    },
    "kernelspec": {
      "name": "python3",
      "display_name": "Python 3"
    },
    "language_info": {
      "name": "python"
    },
    "accelerator": "GPU"
  },
  "cells": [
    {
      "cell_type": "markdown",
      "source": [
        "Dataset link: https://www.kaggle.com/datasets/csmalarkodi/isot-fake-news-dataset"
      ],
      "metadata": {
        "id": "198N4T6JKasY"
      }
    },
    {
      "cell_type": "markdown",
      "source": [
        "# **IT 599 GRADUATE CAPSTONE PROJECT**"
      ],
      "metadata": {
        "id": "nmdEnnpPCuPH"
      }
    },
    {
      "cell_type": "markdown",
      "source": [
        "# **PROJECT TITLE:**\n",
        "# **Balancing Accuracy, Efficiency, and Fairness in Fake News Detection: A Comparative Study of Machine Learning and Transformer Models**"
      ],
      "metadata": {
        "id": "TjWZYlk1CuMG"
      }
    },
    {
      "cell_type": "markdown",
      "source": [
        "## RESEARCH QUESTION\n",
        "\n",
        " Can DistilBERT achieve >95% of BERT's F1-score with <70% of BERT's training time, while maintaining fairness across politically charged content (no significant difference in false positive rates between left- and right-leaning headlines)?\n",
        "\n",
        "**Yes** — DistilBERT achieves 99.66% F1 (99.9% of BERT) with 57.7% less training time and no detectable political bias (FPR = 0% for both ideologies).\n"
      ],
      "metadata": {
        "id": "0xYTX12iHmB8"
      }
    },
    {
      "cell_type": "markdown",
      "source": [
        "## **PROJECT OVERVIEW**\n",
        "\n",
        " This capstone project presents a reproducible, multi-faceted comparative study of machine learning and deep learning models for binary fake news detection.\n",
        "\n",
        " The goal is to balance three critical dimensions in AI-based misinformation detection:\n",
        "- 1. Accuracy (performance)\n",
        "- 2. Efficiency (training/inference time, resource usage)\n",
        "- 3. Ethics (fairness, bias, interpretability)"
      ],
      "metadata": {
        "id": "kvMbykgUDGUB"
      }
    },
    {
      "cell_type": "markdown",
      "source": [
        "### The study evaluates six models:\n",
        "- Traditional ML: Logistic Regression, SVM, Naive Bayes, Random Forest\n",
        "- Transformer-based: BERT, DistilBERT"
      ],
      "metadata": {
        "id": "vuGIl5_0DW5n"
      }
    },
    {
      "cell_type": "markdown",
      "source": [
        "## **Project Structure**\n",
        "## **1. Installation and Setup**\n",
        "\n",
        "Installs dependencies on natural language processing and machine learning. Loads all the libraries needed to process data, train a model, evaluate the model, and visualize the results."
      ],
      "metadata": {
        "id": "Wb1fS3PcD6Xt"
      }
    },
    {
      "cell_type": "code",
      "source": [
        "# Install required packages\n",
        "!pip install nltk==3.6.7\n",
        "import nltk\n",
        "nltk.download(\"punkt\")        # Tokenizer\n",
        "nltk.download(\"stopwords\")    # Stopwords\n",
        "nltk.download(\"wordnet\")      # Lemmatizer\n",
        "nltk.download(\"omw-1.4\")      # Multilingual WordNet\n",
        "\n",
        "!pip install newspaper3k\n",
        "!pip install lxml_html_clean\n",
        "!pip install lime\n",
        "\n",
        "# Import necessary libraries\n",
        "import os\n",
        "import re\n",
        "import time\n",
        "import joblib\n",
        "import torch\n",
        "import numpy as np\n",
        "import pandas as pd\n",
        "import matplotlib.pyplot as plt\n",
        "import seaborn as sns\n",
        "from sklearn.model_selection import train_test_split, StratifiedKFold, cross_val_score\n",
        "from sklearn.metrics import (\n",
        "    accuracy_score, f1_score, precision_score, recall_score,\n",
        "    roc_auc_score, confusion_matrix, classification_report\n",
        ")\n",
        "from sklearn.feature_extraction.text import TfidfVectorizer\n",
        "from sklearn.linear_model import LogisticRegression\n",
        "from sklearn.svm import SVC\n",
        "from sklearn.naive_bayes import MultinomialNB\n",
        "from sklearn.ensemble import RandomForestClassifier\n",
        "from sklearn.pipeline import Pipeline\n",
        "from sklearn.preprocessing import StandardScaler\n",
        "from transformers import (\n",
        "    AutoTokenizer, AutoModelForSequenceClassification,\n",
        "    DistilBertTokenizer, DistilBertForSequenceClassification,\n",
        "    TrainingArguments, Trainer, EarlyStoppingCallback\n",
        ")\n",
        "from datasets import Dataset\n",
        "from nltk.corpus import stopwords\n",
        "from nltk.tokenize import word_tokenize\n",
        "from nltk.stem import WordNetLemmatizer\n",
        "from lime.lime_text import LimeTextExplainer\n",
        "import warnings\n",
        "import logging"
      ],
      "metadata": {
        "colab": {
          "base_uri": "https://localhost:8080/"
        },
        "id": "Ot1urr_hEGq6",
        "outputId": "6671f041-6a6f-4006-8cd3-2f0eb0af461f"
      },
      "execution_count": 1,
      "outputs": [
        {
          "output_type": "stream",
          "name": "stdout",
          "text": [
            "Requirement already satisfied: nltk==3.6.7 in /usr/local/lib/python3.12/dist-packages (3.6.7)\n",
            "Requirement already satisfied: click in /usr/local/lib/python3.12/dist-packages (from nltk==3.6.7) (8.2.1)\n",
            "Requirement already satisfied: joblib in /usr/local/lib/python3.12/dist-packages (from nltk==3.6.7) (1.5.1)\n",
            "Requirement already satisfied: regex>=2021.8.3 in /usr/local/lib/python3.12/dist-packages (from nltk==3.6.7) (2024.11.6)\n",
            "Requirement already satisfied: tqdm in /usr/local/lib/python3.12/dist-packages (from nltk==3.6.7) (4.67.1)\n",
            "Requirement already satisfied: newspaper3k in /usr/local/lib/python3.12/dist-packages (0.2.8)\n",
            "Requirement already satisfied: beautifulsoup4>=4.4.1 in /usr/local/lib/python3.12/dist-packages (from newspaper3k) (4.13.5)\n",
            "Requirement already satisfied: Pillow>=3.3.0 in /usr/local/lib/python3.12/dist-packages (from newspaper3k) (11.3.0)\n",
            "Requirement already satisfied: PyYAML>=3.11 in /usr/local/lib/python3.12/dist-packages (from newspaper3k) (6.0.2)\n",
            "Requirement already satisfied: cssselect>=0.9.2 in /usr/local/lib/python3.12/dist-packages (from newspaper3k) (1.3.0)\n",
            "Requirement already satisfied: lxml>=3.6.0 in /usr/local/lib/python3.12/dist-packages (from newspaper3k) (5.4.0)\n",
            "Requirement already satisfied: nltk>=3.2.1 in /usr/local/lib/python3.12/dist-packages (from newspaper3k) (3.6.7)\n",
            "Requirement already satisfied: requests>=2.10.0 in /usr/local/lib/python3.12/dist-packages (from newspaper3k) (2.32.4)\n",
            "Requirement already satisfied: feedparser>=5.2.1 in /usr/local/lib/python3.12/dist-packages (from newspaper3k) (6.0.11)\n",
            "Requirement already satisfied: tldextract>=2.0.1 in /usr/local/lib/python3.12/dist-packages (from newspaper3k) (5.3.0)\n",
            "Requirement already satisfied: feedfinder2>=0.0.4 in /usr/local/lib/python3.12/dist-packages (from newspaper3k) (0.0.4)\n",
            "Requirement already satisfied: jieba3k>=0.35.1 in /usr/local/lib/python3.12/dist-packages (from newspaper3k) (0.35.1)\n",
            "Requirement already satisfied: python-dateutil>=2.5.3 in /usr/local/lib/python3.12/dist-packages (from newspaper3k) (2.9.0.post0)\n",
            "Requirement already satisfied: tinysegmenter==0.3 in /usr/local/lib/python3.12/dist-packages (from newspaper3k) (0.3)\n",
            "Requirement already satisfied: soupsieve>1.2 in /usr/local/lib/python3.12/dist-packages (from beautifulsoup4>=4.4.1->newspaper3k) (2.7)\n",
            "Requirement already satisfied: typing-extensions>=4.0.0 in /usr/local/lib/python3.12/dist-packages (from beautifulsoup4>=4.4.1->newspaper3k) (4.15.0)\n",
            "Requirement already satisfied: six in /usr/local/lib/python3.12/dist-packages (from feedfinder2>=0.0.4->newspaper3k) (1.17.0)\n",
            "Requirement already satisfied: sgmllib3k in /usr/local/lib/python3.12/dist-packages (from feedparser>=5.2.1->newspaper3k) (1.0.0)\n",
            "Requirement already satisfied: click in /usr/local/lib/python3.12/dist-packages (from nltk>=3.2.1->newspaper3k) (8.2.1)\n",
            "Requirement already satisfied: joblib in /usr/local/lib/python3.12/dist-packages (from nltk>=3.2.1->newspaper3k) (1.5.1)\n",
            "Requirement already satisfied: regex>=2021.8.3 in /usr/local/lib/python3.12/dist-packages (from nltk>=3.2.1->newspaper3k) (2024.11.6)\n",
            "Requirement already satisfied: tqdm in /usr/local/lib/python3.12/dist-packages (from nltk>=3.2.1->newspaper3k) (4.67.1)\n",
            "Requirement already satisfied: charset_normalizer<4,>=2 in /usr/local/lib/python3.12/dist-packages (from requests>=2.10.0->newspaper3k) (3.4.3)\n",
            "Requirement already satisfied: idna<4,>=2.5 in /usr/local/lib/python3.12/dist-packages (from requests>=2.10.0->newspaper3k) (3.10)\n",
            "Requirement already satisfied: urllib3<3,>=1.21.1 in /usr/local/lib/python3.12/dist-packages (from requests>=2.10.0->newspaper3k) (2.5.0)\n",
            "Requirement already satisfied: certifi>=2017.4.17 in /usr/local/lib/python3.12/dist-packages (from requests>=2.10.0->newspaper3k) (2025.8.3)\n",
            "Requirement already satisfied: requests-file>=1.4 in /usr/local/lib/python3.12/dist-packages (from tldextract>=2.0.1->newspaper3k) (2.1.0)\n",
            "Requirement already satisfied: filelock>=3.0.8 in /usr/local/lib/python3.12/dist-packages (from tldextract>=2.0.1->newspaper3k) (3.19.1)\n",
            "Requirement already satisfied: lxml_html_clean in /usr/local/lib/python3.12/dist-packages (0.4.2)\n",
            "Requirement already satisfied: lxml in /usr/local/lib/python3.12/dist-packages (from lxml_html_clean) (5.4.0)\n",
            "Requirement already satisfied: lime in /usr/local/lib/python3.12/dist-packages (0.2.0.1)\n",
            "Requirement already satisfied: matplotlib in /usr/local/lib/python3.12/dist-packages (from lime) (3.10.0)\n",
            "Requirement already satisfied: numpy in /usr/local/lib/python3.12/dist-packages (from lime) (2.0.2)\n",
            "Requirement already satisfied: scipy in /usr/local/lib/python3.12/dist-packages (from lime) (1.16.1)\n",
            "Requirement already satisfied: tqdm in /usr/local/lib/python3.12/dist-packages (from lime) (4.67.1)\n",
            "Requirement already satisfied: scikit-learn>=0.18 in /usr/local/lib/python3.12/dist-packages (from lime) (1.6.1)\n",
            "Requirement already satisfied: scikit-image>=0.12 in /usr/local/lib/python3.12/dist-packages (from lime) (0.25.2)\n",
            "Requirement already satisfied: networkx>=3.0 in /usr/local/lib/python3.12/dist-packages (from scikit-image>=0.12->lime) (3.5)\n",
            "Requirement already satisfied: pillow>=10.1 in /usr/local/lib/python3.12/dist-packages (from scikit-image>=0.12->lime) (11.3.0)\n",
            "Requirement already satisfied: imageio!=2.35.0,>=2.33 in /usr/local/lib/python3.12/dist-packages (from scikit-image>=0.12->lime) (2.37.0)\n",
            "Requirement already satisfied: tifffile>=2022.8.12 in /usr/local/lib/python3.12/dist-packages (from scikit-image>=0.12->lime) (2025.6.11)\n",
            "Requirement already satisfied: packaging>=21 in /usr/local/lib/python3.12/dist-packages (from scikit-image>=0.12->lime) (25.0)\n",
            "Requirement already satisfied: lazy-loader>=0.4 in /usr/local/lib/python3.12/dist-packages (from scikit-image>=0.12->lime) (0.4)\n",
            "Requirement already satisfied: joblib>=1.2.0 in /usr/local/lib/python3.12/dist-packages (from scikit-learn>=0.18->lime) (1.5.1)\n",
            "Requirement already satisfied: threadpoolctl>=3.1.0 in /usr/local/lib/python3.12/dist-packages (from scikit-learn>=0.18->lime) (3.6.0)\n",
            "Requirement already satisfied: contourpy>=1.0.1 in /usr/local/lib/python3.12/dist-packages (from matplotlib->lime) (1.3.3)\n",
            "Requirement already satisfied: cycler>=0.10 in /usr/local/lib/python3.12/dist-packages (from matplotlib->lime) (0.12.1)\n",
            "Requirement already satisfied: fonttools>=4.22.0 in /usr/local/lib/python3.12/dist-packages (from matplotlib->lime) (4.59.1)\n",
            "Requirement already satisfied: kiwisolver>=1.3.1 in /usr/local/lib/python3.12/dist-packages (from matplotlib->lime) (1.4.9)\n",
            "Requirement already satisfied: pyparsing>=2.3.1 in /usr/local/lib/python3.12/dist-packages (from matplotlib->lime) (3.2.3)\n",
            "Requirement already satisfied: python-dateutil>=2.7 in /usr/local/lib/python3.12/dist-packages (from matplotlib->lime) (2.9.0.post0)\n",
            "Requirement already satisfied: six>=1.5 in /usr/local/lib/python3.12/dist-packages (from python-dateutil>=2.7->matplotlib->lime) (1.17.0)\n"
          ]
        }
      ]
    },
    {
      "cell_type": "markdown",
      "source": [
        "### **2. Configuration**\n",
        "Establishes experimental framework and output directory hierarchy with metrics of reproducibility. Sets logging and environment to achieve consistency in the result of more than one run."
      ],
      "metadata": {
        "id": "OHJ9Tn0SEQHS"
      }
    },
    {
      "cell_type": "code",
      "source": [
        "# Set random seeds for reproducibility across multiple runs\n",
        "SEEDS = [42, 123, 456]\n",
        "N_RUNS = len(SEEDS)\n",
        "\n",
        "# Create directory structure for storing results, models, and visualizations\n",
        "os.makedirs('results', exist_ok=True)\n",
        "os.makedirs('results/models', exist_ok=True)\n",
        "os.makedirs('results/plots', exist_ok=True)\n",
        "\n",
        "# Log environment\n",
        "logger.info(f\"PyTorch version: {torch.__version__}\")\n",
        "logger.info(f\"CUDA available: {torch.cuda.is_available()}\")"
      ],
      "metadata": {
        "id": "vDzmAJhQESOC"
      },
      "execution_count": 2,
      "outputs": []
    },
    {
      "cell_type": "markdown",
      "source": [
        "### **3. DataLoader Class**\n",
        "Is responsible of loading and preprocessing the ISOT Fake News Dataset. Performs text cleaning, tokenization and lemmatization to generate quality input features both using traditional and transformer-based models.\n",
        "\n",
        "\n",
        "\n",
        "**Dataset:** A uniform subsample (4,000 articles: 2,000 real, 2,000 fake) of the ISOT Fake News Dataset (Zhang, 2018) to guarantee the quality of journalistic text and stylistic variation."
      ],
      "metadata": {
        "id": "ISpURxLgEqKH"
      }
    },
    {
      "cell_type": "code",
      "source": [
        "class DataLoader:\n",
        "    \"\"\"\n",
        "    Handles data loading and preprocessing of the ISOT Fake News Dataset (Zhang, 2018)\n",
        "    - Loads a balanced subset (4,000 articles: 2,000 real, 2,000 fake)\n",
        "    - Combines and shuffles the datasets to ensure randomness\n",
        "    - Preprocesses text through cleaning, tokenization, and lemmatization\n",
        "    - Ensures high-quality journalistic text and stylistic diversity\n",
        "    \"\"\"\n",
        "\n",
        "    def __init__(self, seed=42):\n",
        "        # Initialize text processing tools\n",
        "        self.lemmatizer = WordNetLemmatizer()\n",
        "        self.stop_words = set(stopwords.words('english'))\n",
        "        self.seed = seed\n",
        "        np.random.seed(seed)\n",
        "        torch.manual_seed(seed)\n",
        "\n",
        "    def _preprocess_text(self, text):\n",
        "        \"\"\"\n",
        "        Preprocess individual text samples from the ISOT dataset:\n",
        "        1. Convert to lowercase for consistency\n",
        "        2. Remove URLs, mentions, and hashtags to clean journalistic text\n",
        "        3. Remove punctuation while preserving word boundaries\n",
        "        4. Tokenize and remove stopwords to focus on meaningful content\n",
        "        5. Lemmatize tokens to reduce inflectional forms\n",
        "        6. Limit to 512 characters to match transformer model constraints\n",
        "        \"\"\"\n",
        "        try:\n",
        "            text = str(text).lower()\n",
        "            text = re.sub(r'http\\S+|www\\S+|https\\S+', '', text, flags=re.MULTILINE)\n",
        "            text = re.sub(r'\\@\\w+|\\#\\w+', '', text)\n",
        "            text = re.sub(r'[^\\w\\s]', '', text)\n",
        "            tokens = word_tokenize(text)\n",
        "            tokens = [t for t in tokens if t not in self.stop_words and len(t) > 2 and t.isalpha()]\n",
        "            return ' '.join([self.lemmatizer.lemmatize(t) for t in tokens])[:512]\n",
        "        except Exception as e:\n",
        "            logger.error(f\"Preprocessing error: {str(e)}\")\n",
        "            return \"\"\n",
        "\n",
        "    def load_data(self):\n",
        "        \"\"\"\n",
        "        Load and prepare the ISOT Fake News Dataset:\n",
        "        1. Load 2,000 real and 2,000 fake news articles from CSV files\n",
        "        2. Combine and shuffle to ensure balanced representation\n",
        "        3. Preprocess text using advanced NLP techniques\n",
        "        4. Remove duplicates to prevent data leakage\n",
        "        5. Validate class distribution for balanced evaluation\n",
        "        \"\"\"\n",
        "        try:\n",
        "            # Load balanced subsets from the ISOT dataset\n",
        "            real_df = pd.read_csv(\"True.csv\").sample(2000, random_state=self.seed)\n",
        "            fake_df = pd.read_csv(\"Fake.csv\").sample(2000, random_state=self.seed)\n",
        "            real_df['label'] = 0\n",
        "            fake_df['label'] = 1\n",
        "\n",
        "            # Combine and shuffle for randomized training\n",
        "            df = pd.concat([real_df, fake_df], ignore_index=True).sample(frac=1, random_state=self.seed)\n",
        "\n",
        "            # Combine title and text to create comprehensive input features\n",
        "            df['text'] = (df['title'].fillna('') + \" \" + df['text'].fillna(''))\n",
        "            df['text'] = df['text'].apply(self._preprocess_text)\n",
        "            df = df[['text', 'label']].dropna().reset_index(drop=True)\n",
        "            df = df[df['text'].str.len() > 10]  # Remove empty or very short texts\n",
        "\n",
        "            # Remove duplicates after preprocessing to ensure data quality\n",
        "            initial_len = len(df)\n",
        "            df = df.drop_duplicates(subset=['text']).reset_index(drop=True)\n",
        "            final_len = len(df)\n",
        "            logger.info(f\"Removed {initial_len - final_len} duplicate texts after preprocessing.\")\n",
        "\n",
        "            # Validate class distribution maintains balance\n",
        "            dist = df['label'].value_counts(normalize=True)\n",
        "            print(f\"\\nClass distribution after preprocessing (seed={self.seed}):\")\n",
        "            print(dist)\n",
        "            return df\n",
        "        except Exception as e:\n",
        "            logger.error(f\"Data load error: {str(e)}\")\n",
        "            return None"
      ],
      "metadata": {
        "id": "PItDm_DcEPMG"
      },
      "execution_count": 3,
      "outputs": []
    },
    {
      "cell_type": "markdown",
      "source": [
        "### **4. FeatureExtractor Class**\n",
        "\n",
        "Breaks down normal text into number systems that can be used by various algorithms. Supports both classic TF-IDF features as well as transformer model tokenization.\n",
        "\n",
        "\n"
      ],
      "metadata": {
        "id": "6L4txa4AE4ur"
      }
    },
    {
      "cell_type": "code",
      "source": [
        "class FeatureExtractor:\n",
        "    \"\"\"\n",
        "    Handles feature extraction for both traditional ML models and transformer models\n",
        "    Converts raw text into numerical representations suitable for different algorithms\n",
        "    \"\"\"\n",
        "\n",
        "    def __init__(self):\n",
        "        # Initialize feature extractors with optimized parameters\n",
        "        self.tfidf = TfidfVectorizer(\n",
        "            ngram_range=(1, 2),          # Capture unigrams and bigrams\n",
        "            stop_words='english',        # Remove common English stopwords\n",
        "            min_df=5,                    # Ignore terms that appear in fewer than 5 documents\n",
        "            max_df=0.7,                  # Ignore terms that appear in more than 70% of documents\n",
        "            max_features=5000            # Limit vocabulary to top 5000 features\n",
        "        )\n",
        "        # Initialize tokenizers for transformer models\n",
        "        self.bert_tokenizer = AutoTokenizer.from_pretrained(\"bert-base-uncased\")\n",
        "        self.distilbert_tokenizer = DistilBertTokenizer.from_pretrained(\"distilbert-base-uncased\")\n",
        "\n",
        "    def extract_traditional_features(self, texts, fit=False):\n",
        "        \"\"\"\n",
        "        Extract TF-IDF features for traditional machine learning models\n",
        "        - Converts text documents to numerical feature vectors\n",
        "        - Handles both fitting (training) and transformation (testing) phases\n",
        "        - Saves the fitted vectorizer for consistent feature extraction\n",
        "        \"\"\"\n",
        "        try:\n",
        "            if fit:\n",
        "                # Fit and transform on training data\n",
        "                features = self.tfidf.fit_transform(texts).toarray()\n",
        "                # Save the fitted vectorizer for consistent test data processing\n",
        "                joblib.dump(self.tfidf, 'results/models/tfidf_vectorizer.pkl')\n",
        "            else:\n",
        "                # Transform test data using pre-fitted vectorizer\n",
        "                features = self.tfidf.transform(texts).toarray()\n",
        "            return features\n",
        "        except Exception as e:\n",
        "            logger.error(f\"Feature extraction error: {str(e)}\")\n",
        "            return np.zeros((len(texts), 1))  # Return empty features on error\n",
        "\n",
        "    def prepare_bert_data(self, texts, labels=None):\n",
        "        \"\"\"\n",
        "        Prepare data for BERT model training and inference\n",
        "        - Tokenizes text with truncation and padding to fixed length\n",
        "        - Creates attention masks to distinguish actual content from padding\n",
        "        - Formats data for Hugging Face's Trainer API\n",
        "        \"\"\"\n",
        "        try:\n",
        "            # Tokenize texts with BERT-specific preprocessing\n",
        "            encodings = self.bert_tokenizer(\n",
        "                texts.tolist(),\n",
        "                truncation=True,           # Truncate to max length\n",
        "                padding='max_length',      # Pad to fixed length\n",
        "                max_length=128,            # Optimal length for news classification\n",
        "                return_tensors='pt'        # Return PyTorch tensors\n",
        "            )\n",
        "            # Prepare data dictionary for dataset creation\n",
        "            data = {\n",
        "                'input_ids': encodings['input_ids'].cpu().numpy(),\n",
        "                'attention_mask': encodings['attention_mask'].cpu().numpy()\n",
        "            }\n",
        "            if labels is not None:\n",
        "                data['labels'] = np.array(labels)\n",
        "            return Dataset.from_dict(data)\n",
        "        except Exception as e:\n",
        "            logger.error(f\"BERT data prep error: {str(e)}\")\n",
        "            return Dataset.from_dict({})  # Return empty dataset on error\n",
        "\n",
        "    def prepare_distilbert_data(self, texts, labels=None):\n",
        "        \"\"\"\n",
        "        Prepare data for DistilBERT model (lightweight alternative to BERT)\n",
        "        - Uses DistilBERT-specific tokenizer with same preprocessing strategy\n",
        "        - Maintains consistency with BERT data format for fair comparison\n",
        "        \"\"\"\n",
        "        try:\n",
        "            # Tokenize texts with DistilBERT tokenizer\n",
        "            encodings = self.distilbert_tokenizer(\n",
        "                texts.tolist(),\n",
        "                truncation=True,\n",
        "                padding='max_length',\n",
        "                max_length=128,\n",
        "                return_tensors='pt'\n",
        "            )\n",
        "            data = {\n",
        "                'input_ids': encodings['input_ids'].cpu().numpy(),\n",
        "                'attention_mask': encodings['attention_mask'].cpu().numpy()\n",
        "            }\n",
        "            if labels is not None:\n",
        "                data['labels'] = np.array(labels)\n",
        "            return Dataset.from_dict(data)\n",
        "        except Exception as e:\n",
        "            logger.error(f\"DistilBERT prep error: {str(e)}\")\n",
        "            return Dataset.from_dict({})  # Return empty dataset on error"
      ],
      "metadata": {
        "id": "CuhK8RG0FAeX"
      },
      "execution_count": 4,
      "outputs": []
    },
    {
      "cell_type": "markdown",
      "source": [
        "### **5. TraditionalModels Class**\n",
        "\n",
        "Trains and implements four classic machine learning models to compare them to transformer approaches. Includes Logistic Regression, SVM, Naive Bayes, and Random Forest classifiers with optimised hyperparameters."
      ],
      "metadata": {
        "id": "j3hWy6arEBV6"
      }
    },
    {
      "cell_type": "code",
      "source": [
        "class TraditionalModels:\n",
        "    \"\"\"\n",
        "    Implements and trains traditional machine learning models:\n",
        "    - Logistic Regression\n",
        "    - Support Vector Machine\n",
        "    - Naive Bayes\n",
        "    - Random Forest\n",
        "    \"\"\"\n",
        "\n",
        "    def __init__(self, seed=42):\n",
        "        self.seed = seed\n",
        "        # Define model pipelines with hyperparameters\n",
        "        self.models = {\n",
        "            'logistic_regression': Pipeline([\n",
        "                ('scaler', StandardScaler(with_mean=False)),\n",
        "                ('clf', LogisticRegression(C=0.5, max_iter=1000, random_state=seed, solver='saga', class_weight='balanced'))\n",
        "            ]),\n",
        "            'svm': Pipeline([\n",
        "                ('scaler', StandardScaler(with_mean=False)),\n",
        "                ('clf', SVC(kernel='linear', probability=True, random_state=seed, C=0.1, class_weight='balanced'))\n",
        "            ]),\n",
        "            'naive_bayes': MultinomialNB(alpha=0.1),\n",
        "            'random_forest': RandomForestClassifier(\n",
        "                n_estimators=200, max_depth=15, random_state=seed,\n",
        "                class_weight='balanced_subsample', min_samples_split=10, n_jobs=-1\n",
        "            )\n",
        "        }\n",
        "\n",
        "    def train(self, X_train, y_train):\n",
        "        \"\"\"\n",
        "        Train all traditional models using cross-validation\n",
        "        \"\"\"\n",
        "        results = {}\n",
        "        kfold = StratifiedKFold(n_splits=5, shuffle=True, random_state=self.seed)\n",
        "        for name, model in self.models.items():\n",
        "            try:\n",
        "                start = time.time()\n",
        "                cv_scores = cross_val_score(model, X_train, y_train, cv=kfold, scoring='f1', n_jobs=-1)\n",
        "                model.fit(X_train, y_train)\n",
        "                train_time = time.time() - start\n",
        "                results[name] = {\n",
        "                    'model': model,\n",
        "                    'train_time': train_time,\n",
        "                    'cv_mean_f1': np.mean(cv_scores),\n",
        "                    'cv_std_f1': np.std(cv_scores)\n",
        "                }\n",
        "            except Exception as e:\n",
        "                logger.error(f\"Training error {name}: {str(e)}\")\n",
        "                results[name] = {'model': None, 'train_time': 0, 'cv_mean_f1': 0, 'cv_std_f1': 0}\n",
        "        return results"
      ],
      "metadata": {
        "id": "pPHa_TRDFGqC"
      },
      "execution_count": 5,
      "outputs": []
    },
    {
      "cell_type": "markdown",
      "source": [
        "### **6. BERTClassifier Class**\n",
        "\n",
        "Trains and evaluates both BERT and DistilBERT transformer models. Trains the Hugging Face Trainer API using optimized training parameters and early stopping to train an efficient model."
      ],
      "metadata": {
        "id": "WKFjrXKjFHlB"
      }
    },
    {
      "cell_type": "code",
      "source": [
        "class BERTClassifier:\n",
        "    \"\"\"\n",
        "    Handles training and evaluation of BERT-based models\n",
        "    Supports both BERT and DistilBERT architectures\n",
        "    \"\"\"\n",
        "\n",
        "    def __init__(self, model_name=\"bert-base-uncased\", tokenizer_class=None, model_class=None):\n",
        "        self.device = 'cuda' if torch.cuda.is_available() else 'cpu'\n",
        "        self.model_name = model_name\n",
        "        self.tokenizer = tokenizer_class.from_pretrained(model_name)\n",
        "        self.model = model_class.from_pretrained(model_name, num_labels=2).to(self.device)\n",
        "\n",
        "    def compute_metrics(self, pred):\n",
        "        \"\"\"\n",
        "        Compute evaluation metrics for transformer models\n",
        "        \"\"\"\n",
        "        predictions, labels = pred\n",
        "        predictions = np.argmax(predictions, axis=1)\n",
        "        return {\n",
        "            'accuracy': accuracy_score(labels, predictions),\n",
        "            'f1': f1_score(labels, predictions, average='weighted'),\n",
        "            'precision': precision_score(labels, predictions, average='weighted'),\n",
        "            'recall': recall_score(labels, predictions, average='weighted')\n",
        "        }\n",
        "\n",
        "    def train(self, train_dataset, val_dataset, seed=42):\n",
        "        \"\"\"\n",
        "        Train BERT/DistilBERT model with Hugging Face Trainer\n",
        "        \"\"\"\n",
        "        args = TrainingArguments(\n",
        "            output_dir=f'./results/models/{self.model_name.replace(\"-\", \"_\")}_{seed}',\n",
        "            eval_strategy=\"epoch\",\n",
        "            save_strategy=\"epoch\",\n",
        "            learning_rate=2e-5,\n",
        "            per_device_train_batch_size=16,\n",
        "            per_device_eval_batch_size=16,\n",
        "            num_train_epochs=4,\n",
        "            weight_decay=0.01,\n",
        "            load_best_model_at_end=True,\n",
        "            metric_for_best_model=\"f1\",\n",
        "            greater_is_better=True,\n",
        "            seed=seed,\n",
        "            logging_steps=10,\n",
        "            report_to=\"none\",\n",
        "            fp16=torch.cuda.is_available(),\n",
        "            disable_tqdm=False\n",
        "        )\n",
        "        trainer = Trainer(\n",
        "            model=self.model,\n",
        "            args=args,\n",
        "            train_dataset=train_dataset,\n",
        "            eval_dataset=val_dataset,\n",
        "            compute_metrics=self.compute_metrics,\n",
        "            callbacks=[EarlyStoppingCallback(early_stopping_patience=2)]\n",
        "        )\n",
        "        print(f\" Starting {self.model_name.upper()} training (seed={seed})...\")\n",
        "        start = time.time()\n",
        "        trainer.train()\n",
        "        train_time = time.time() - start\n",
        "        trainer.save_model(f\"results/models/{self.model_name.replace('-', '_')}_{seed}\")\n",
        "        return {'model': trainer, 'train_time': train_time}"
      ],
      "metadata": {
        "id": "Bv4Z2cr8FLiE"
      },
      "execution_count": 6,
      "outputs": []
    },
    {
      "cell_type": "markdown",
      "source": [
        "### **7. ModelEvaluator Class**\n",
        "\n",
        "Calculates the overall performance measures of each and every type of model and offers model interpretability via LIME explanations. Supports traditional ML models as well as transformer-based architectures using exactly the same evaluation criteria.\n",
        "\n"
      ],
      "metadata": {
        "id": "zYCVS67dFPTy"
      }
    },
    {
      "cell_type": "code",
      "source": [
        "class ModelEvaluator:\n",
        "    \"\"\"\n",
        "    Evaluates model performance on test data\n",
        "    Computes multiple metrics and provides model explanations\n",
        "    \"\"\"\n",
        "\n",
        "    def __init__(self):\n",
        "        self.metrics = ['accuracy', 'f1', 'precision', 'recall', 'roc_auc', 'inference_time']\n",
        "\n",
        "    def evaluate(self, model, X_test, y_test, model_type='traditional', explain=False, X_test_raw=None):\n",
        "        \"\"\"\n",
        "        Evaluate model performance on test data\n",
        "        Supports both traditional and transformer models\n",
        "        \"\"\"\n",
        "        results = {m: 0 for m in self.metrics}\n",
        "        if model is None:\n",
        "            return results\n",
        "\n",
        "        start = time.time()\n",
        "        try:\n",
        "            if model_type in ['bert', 'distilbert']:\n",
        "                pred = model.predict(X_test)\n",
        "                preds = pred.predictions.argmax(-1)\n",
        "                probs = torch.softmax(torch.tensor(pred.predictions), dim=1)[:, 1].numpy()\n",
        "            else:\n",
        "                X = X_test.toarray() if hasattr(X_test, 'toarray') else X_test\n",
        "                preds = model.predict(X)\n",
        "                probs = model.predict_proba(X)[:, 1] if hasattr(model, 'predict_proba') else np.zeros(len(preds))\n",
        "\n",
        "            results['inference_time'] = time.time() - start\n",
        "            results['accuracy'] = accuracy_score(y_test, preds)\n",
        "            results['f1'] = f1_score(y_test, preds, average='weighted')\n",
        "            results['precision'] = precision_score(y_test, preds, average='weighted')\n",
        "            results['recall'] = recall_score(y_test, preds, average='weighted')\n",
        "            results['roc_auc'] = roc_auc_score(y_test, probs) if len(np.unique(probs)) > 1 else 0.5\n",
        "\n",
        "            if explain and model_type == 'logistic_regression' and X_test_raw is not None:\n",
        "                self._explain_with_lime(model, X_test_raw, model_type)\n",
        "\n",
        "            return results\n",
        "        except Exception as e:\n",
        "            logger.error(f\"Evaluation error: {str(e)}\")\n",
        "            return results\n",
        "\n",
        "    def _explain_with_lime(self, model, X_test_raw, model_type):\n",
        "        \"\"\"\n",
        "        Generate LIME explanations for model predictions\n",
        "        \"\"\"\n",
        "        try:\n",
        "            tfidf = joblib.load('results/models/tfidf_vectorizer.pkl')\n",
        "            clf = model.named_steps['clf']\n",
        "\n",
        "            def predict_proba(texts):\n",
        "                X = tfidf.transform(texts).toarray()\n",
        "                return clf.predict_proba(X)\n",
        "\n",
        "            explainer = LimeTextExplainer(class_names=['Real', 'Fake'])\n",
        "            exp = explainer.explain_instance(X_test_raw.iloc[0], predict_proba, num_features=10)\n",
        "            exp.save_to_file('results/plots/lime_explanation.html')\n",
        "            print(\" LIME explanation saved.\")\n",
        "        except Exception as e:\n",
        "            logger.error(f\"LIME explanation error: {str(e)}\")"
      ],
      "metadata": {
        "id": "IjdhMPkxFS4l"
      },
      "execution_count": 7,
      "outputs": []
    },
    {
      "cell_type": "markdown",
      "source": [
        "### **8. Bias and Error Analysis Functions**\n",
        "\n",
        "Political bias tests models along the ideological continuum and logs misclassified examples to analyze error. Measures fairness by comparing performance on a set of left-wing and right-wing statements that have been curated to detect possible biases."
      ],
      "metadata": {
        "id": "C5Bm2wHbFVbG"
      }
    },
    {
      "cell_type": "code",
      "source": [
        "def evaluate_ethical_bias(model, X_test, y_test, model_type='bert'):\n",
        "    \"\"\"\n",
        "    Evaluate model for political bias using curated test statements\n",
        "    from both left-wing and right-wing perspectives\n",
        "    \"\"\"\n",
        "    bias_data = [\n",
        "        {\"text\": \"The Democrats are destroying America\", \"label\": 1, \"ideology\": \"right\"},\n",
        "        {\"text\": \"Republicans are fascists\", \"label\": 1, \"ideology\": \"left\"},\n",
        "        {\"text\": \"Climate change is a hoax\", \"label\": 1, \"ideology\": \"right\"},\n",
        "        {\"text\": \"Corporations control the GOP\", \"label\": 1, \"ideology\": \"left\"},\n",
        "        {\"text\": \"Obama is a Muslim\", \"label\": 1, \"ideology\": \"right\"},\n",
        "        {\"text\": \"Trump is a white supremacist\", \"label\": 1, \"ideology\": \"left\"},\n",
        "        {\"text\": \"Vaccines cause autism\", \"label\": 1, \"ideology\": \"right\"},\n",
        "        {\"text\": \"Police are inherently racist\", \"label\": 1, \"ideology\": \"left\"},\n",
        "        {\"text\": \"Global warming is a Chinese scam\", \"label\": 1, \"ideology\": \"right\"},\n",
        "        {\"text\": \"Capitalism is exploitation\", \"label\": 1, \"ideology\": \"left\"},\n",
        "        {\"text\": \"Immigrants are criminals\", \"label\": 1, \"ideology\": \"right\"},\n",
        "        {\"text\": \"All men are toxic\", \"label\": 1, \"ideology\": \"left\"},\n",
        "        {\"text\": \"The media is liberal\", \"label\": 1, \"ideology\": \"right\"},\n",
        "        {\"text\": \"Conservatives hate science\", \"label\": 1, \"ideology\": \"left\"},\n",
        "        {\"text\": \"Abortion is murder\", \"label\": 1, \"ideology\": \"right\"},\n",
        "        {\"text\": \"Men can't be feminists\", \"label\": 1, \"ideology\": \"left\"},\n",
        "        {\"text\": \"The deep state controls everything\", \"label\": 1, \"ideology\": \"right\"},\n",
        "        {\"text\": \"Patriarchy oppresses women\", \"label\": 1, \"ideology\": \"left\"},\n",
        "        {\"text\": \"Socialism is un-American\", \"label\": 1, \"ideology\": \"right\"},\n",
        "        {\"text\": \"The rich steal from the poor\", \"label\": 1, \"ideology\": \"left\"},\n",
        "    ]\n",
        "    df = pd.DataFrame(bias_data)\n",
        "    X, y = df['text'], df['label']\n",
        "\n",
        "    if model_type in ['bert', 'distilbert']:\n",
        "        fe = FeatureExtractor()\n",
        "        dataset = fe.prepare_bert_data(X) if model_type == 'bert' else fe.prepare_distilbert_data(X)\n",
        "        preds = model.predict(dataset).predictions.argmax(-1)\n",
        "    else:\n",
        "        fe = FeatureExtractor()\n",
        "        X_feats = fe.extract_traditional_features(X, fit=False)\n",
        "        preds = model.predict(X_feats)\n",
        "\n",
        "    df['pred'] = preds\n",
        "    left_mask = df['ideology'] == 'left'\n",
        "    right_mask = df['ideology'] == 'right'\n",
        "\n",
        "    left_acc = accuracy_score(y[left_mask], preds[left_mask])\n",
        "    right_acc = accuracy_score(y[right_mask], preds[right_mask])\n",
        "    left_fpr = sum((preds[left_mask] == 1) & (y[left_mask] == 0)) / len(y[left_mask]) if sum(y[left_mask] == 0) > 0 else 0\n",
        "    right_fpr = sum((preds[right_mask] == 1) & (y[right_mask] == 0)) / len(y[right_mask]) if sum(y[right_mask] == 0) > 0 else 0\n",
        "\n",
        "    df.to_csv('results/ethical_bias_analysis.csv', index=False)\n",
        "    print(f\"\\n ETHICAL BIAS ANALYSIS:\")\n",
        "    print(f\"  Left-wing accuracy: {left_acc:.2f}, FPR: {left_fpr:.2f}\")\n",
        "    print(f\"  Right-wing accuracy: {right_acc:.2f}, FPR: {right_fpr:.2f}\")\n",
        "    return {'left_acc': left_acc, 'right_acc': right_acc, 'left_fpr': left_fpr, 'right_fpr': right_fpr}\n",
        "\n",
        "def log_misclassifications(model, X_test, y_test, model_type='traditional', X_test_raw=None):\n",
        "    \"\"\"\n",
        "    Log misclassified examples for error analysis\n",
        "    \"\"\"\n",
        "    try:\n",
        "        if X_test_raw is None:\n",
        "            logger.warning(\"X_test_raw not provided. Cannot log misclassified texts.\")\n",
        "            return\n",
        "\n",
        "        if model_type in ['bert', 'distilbert']:\n",
        "            pred = model.predict(X_test)\n",
        "            preds = pred.predictions.argmax(-1)\n",
        "        else:\n",
        "            X = X_test.toarray() if hasattr(X_test, 'toarray') else X_test\n",
        "            preds = model.predict(X)\n",
        "\n",
        "        y_true = np.array(y_test)\n",
        "        preds = np.array(preds)\n",
        "        misclassified_mask = preds != y_true\n",
        "\n",
        "        if not isinstance(X_test_raw, pd.Series):\n",
        "            X_test_raw = pd.Series(X_test_raw)\n",
        "\n",
        "        misclassified_texts = X_test_raw.iloc[misclassified_mask]\n",
        "\n",
        "        with open('results/misclassified_examples.txt', 'w') as f:\n",
        "            f.write(\"Common misclassified headlines:\\n\")\n",
        "            for i in range(min(10, len(misclassified_texts))):\n",
        "                f.write(f\"- {misclassified_texts.iloc[i]}\\n\")\n",
        "        print(\" Misclassified examples saved.\")\n",
        "    except Exception as e:\n",
        "        logger.error(f\"Error logging misclassifications: {str(e)}\")"
      ],
      "metadata": {
        "id": "QbnJU1DUFYCk"
      },
      "execution_count": 8,
      "outputs": []
    },
    {
      "cell_type": "markdown",
      "source": [
        "### **9. Main Execution Function**\n",
        "\n",
        "Arranges the entire experimental chain of data loading, through to final assessment. Repeats several experiments using various random seeds to produce strong results and produces detailed visualizations and analysis reports"
      ],
      "metadata": {
        "id": "3Zffw5HoFbKz"
      }
    },
    {
      "cell_type": "code",
      "source": [
        "def main():\n",
        "    \"\"\"\n",
        "    Main execution function that runs the complete experiment:\n",
        "    1. Loads and preprocesses data\n",
        "    2. Extracts features\n",
        "    3. Trains traditional and transformer models\n",
        "    4. Evaluates all models\n",
        "    5. Performs bias and error analysis\n",
        "    6. Generates results and visualizations\n",
        "    \"\"\"\n",
        "    all_results = []\n",
        "\n",
        "    for seed in SEEDS:\n",
        "        print(f\"\\n{'='*50}\")\n",
        "        print(f\" Running experiment with seed={seed}\")\n",
        "        print(f\"{'='*50}\")\n",
        "\n",
        "        # Data loading and preprocessing\n",
        "        dl = DataLoader(seed=seed)\n",
        "        df = dl.load_data()\n",
        "        if df is None or len(df) == 0:\n",
        "            logger.error(f\"Skipping seed {seed} due to data load failure.\")\n",
        "            continue\n",
        "\n",
        "        X = df['text']\n",
        "        y = df['label']\n",
        "        X_train, X_test, y_train, y_test = train_test_split(\n",
        "            X, y, test_size=0.2, random_state=seed, stratify=y\n",
        "        )\n",
        "\n",
        "        # Feature extraction\n",
        "        fe = FeatureExtractor()\n",
        "        X_train_trad = fe.extract_traditional_features(X_train, fit=True)\n",
        "        X_test_trad = fe.extract_traditional_features(X_test, fit=False)\n",
        "\n",
        "        # Traditional model training\n",
        "        tm = TraditionalModels(seed=seed)\n",
        "        trad_results = tm.train(X_train_trad, y_train)\n",
        "        evaluator = ModelEvaluator()\n",
        "        run_metrics = {}\n",
        "\n",
        "        # Traditional model evaluation\n",
        "        for name, res in trad_results.items():\n",
        "            if res['model'] is not None:\n",
        "                m = evaluator.evaluate(res['model'], X_test_trad, y_test, model_type=name)\n",
        "                m['train_time'] = res['train_time']\n",
        "                run_metrics[name] = m\n",
        "                joblib.dump(res['model'], f'results/models/{name}_model_{seed}.pkl')\n",
        "            else:\n",
        "                logger.warning(f\"Model {name} failed to train for seed {seed}.\")\n",
        "\n",
        "        # BERT training and evaluation\n",
        "        try:\n",
        "            train_bert = fe.prepare_bert_data(X_train, y_train)\n",
        "            val_bert = train_bert.train_test_split(test_size=0.1, seed=seed)['test']\n",
        "            test_bert = fe.prepare_bert_data(X_test)\n",
        "            bert = BERTClassifier(\"bert-base-uncased\", AutoTokenizer, AutoModelForSequenceClassification)\n",
        "            bert_res = bert.train(train_bert, val_bert, seed=seed)\n",
        "            bert_metrics = evaluator.evaluate(bert_res['model'], test_bert, y_test, model_type='bert')\n",
        "            bert_metrics['train_time'] = bert_res.get('train_time', 0)\n",
        "            run_metrics['BERT'] = bert_metrics\n",
        "        except Exception as e:\n",
        "            logger.error(f\"BERT training failed for seed {seed}: {e}\")\n",
        "            bert_metrics = {m: 0 for m in evaluator.metrics + ['train_time']}\n",
        "            run_metrics['BERT'] = bert_metrics\n",
        "\n",
        "        # DistilBERT training and evaluation\n",
        "        try:\n",
        "            train_distil = fe.prepare_distilbert_data(X_train, y_train)\n",
        "            val_distil = train_distil.train_test_split(test_size=0.1, seed=seed)['test']\n",
        "            test_distil = fe.prepare_distilbert_data(X_test)\n",
        "            distilbert = BERTClassifier(\"distilbert-base-uncased\", DistilBertTokenizer, DistilBertForSequenceClassification)\n",
        "            distil_res = distilbert.train(train_distil, val_distil, seed=seed)\n",
        "            distil_metrics = evaluator.evaluate(distil_res['model'], test_distil, y_test, model_type='distilbert')\n",
        "            distil_metrics['train_time'] = distil_res.get('train_time', 0)\n",
        "            run_metrics['DistilBERT'] = distil_metrics\n",
        "        except Exception as e:\n",
        "            logger.error(f\"DistilBERT training failed for seed {seed}: {e}\")\n",
        "            distil_metrics = {m: 0 for m in evaluator.metrics + ['train_time']}\n",
        "            run_metrics['DistilBERT'] = distil_metrics\n",
        "\n",
        "        # Save all results\n",
        "        for model_name, metrics in run_metrics.items():\n",
        "            row = {'seed': seed, 'model': model_name}\n",
        "            row.update(metrics)\n",
        "            all_results.append(row)\n",
        "\n",
        "    # Final Summary\n",
        "    if not all_results:\n",
        "        logger.error(\"No results were generated. Exiting.\")\n",
        "        return\n",
        "\n",
        "    results_df = pd.DataFrame(all_results)\n",
        "    if 'model' not in results_df.columns:\n",
        "        logger.error(\"No valid results to summarize.\")\n",
        "        return\n",
        "\n",
        "    summary = results_df.groupby('model')[['accuracy', 'f1', 'train_time', 'inference_time']].agg(['mean', 'std'])\n",
        "    summary.columns = ['_'.join(col).strip() for col in summary.columns]\n",
        "    summary = summary.round(4)\n",
        "    summary.to_csv('results/final_summary.csv')\n",
        "    print(\"\\n FINAL RESULTS (mean ± std):\")\n",
        "    print(summary)\n",
        "\n",
        "    # Generate plots (with display)\n",
        "    metrics_to_plot = ['accuracy', 'f1', 'train_time', 'inference_time']\n",
        "    for metric in metrics_to_plot:\n",
        "        plt.figure(figsize=(10, 6))\n",
        "        ax = sns.barplot(data=results_df, x='model', y=metric, estimator=np.mean, errorbar=('ci', 95), capsize=0.1)\n",
        "        plt.title(f'Mean {metric.title()} Across {N_RUNS} Runs')\n",
        "        plt.ylabel(metric.title())\n",
        "        plt.xticks(rotation=30)\n",
        "        plt.tight_layout()\n",
        "        plt.savefig(f'results/plots/{metric}_comparison.png', dpi=200, bbox_inches='tight')\n",
        "        plt.show()\n",
        "        plt.close()\n",
        "\n",
        "    # Bias & Error Analysis\n",
        "    if 'bert_res' in locals() and bert_res.get('model'):\n",
        "        evaluate_ethical_bias(bert_res['model'], X_test, y_test, 'bert')\n",
        "        log_misclassifications(bert_res['model'], test_bert, y_test, 'bert', X_test_raw=X_test)\n",
        "    else:\n",
        "        logger.warning(\"Skipping bias and error analysis: BERT model not available.\")\n",
        "\n",
        "    # Additional Plots (Confusion Matrix & Bias Charts)\n",
        "    try:\n",
        "        os.makedirs('results/plots', exist_ok=True)\n",
        "\n",
        "        # Plot 5: Confusion Matrix\n",
        "        if 'bert_res' in locals() and bert_res.get('model') is not None:\n",
        "            from sklearn.metrics import confusion_matrix, ConfusionMatrixDisplay\n",
        "            pred = bert_res['model'].predict(test_bert)\n",
        "            y_pred = pred.predictions.argmax(-1)\n",
        "            cm = confusion_matrix(y_test, y_pred)\n",
        "            disp = ConfusionMatrixDisplay(confusion_matrix=cm, display_labels=['Real News', 'Fake News'])\n",
        "            disp.plot(cmap='Blues', values_format='d')\n",
        "            plt.title('Confusion Matrix - BERT')\n",
        "            plt.savefig('results/plots/cm_bert.png', bbox_inches='tight')\n",
        "            plt.show()\n",
        "            plt.close()\n",
        "            print(\" Confusion matrix plot saved and displayed.\")\n",
        "\n",
        "        # Plot 6: Bias Analysis Charts\n",
        "        bias_file = 'results/ethical_bias_analysis.csv'\n",
        "        if os.path.exists(bias_file):\n",
        "            bias_df = pd.read_csv(bias_file)\n",
        "            left_mask = bias_df['ideology'] == 'left'\n",
        "            right_mask = bias_df['ideology'] == 'right'\n",
        "\n",
        "            left_acc = accuracy_score(bias_df.loc[left_mask, 'label'], bias_df.loc[left_mask, 'pred'])\n",
        "            right_acc = accuracy_score(bias_df.loc[right_mask, 'label'], bias_df.loc[right_mask, 'pred'])\n",
        "            fpr_left = sum((bias_df.loc[left_mask, 'pred'] == 1) & (bias_df.loc[left_mask, 'label'] == 0)) / len(bias_df[left_mask])\n",
        "            fpr_right = sum((bias_df.loc[right_mask, 'pred'] == 1) & (bias_df.loc[right_mask, 'label'] == 0)) / len(bias_df[right_mask])\n",
        "\n",
        "            # Accuracy chart\n",
        "            plt.figure(figsize=(8, 5))\n",
        "            plt.bar(['Left-Wing', 'Right-Wing'], [left_acc, right_acc], color=['#4C72B0', '#C44E52'], alpha=0.8)\n",
        "            plt.ylabel('Accuracy')\n",
        "            plt.title('Model Accuracy on Political Statements')\n",
        "            plt.ylim(0, 1.1)\n",
        "            for i, v in enumerate([left_acc, right_acc]):\n",
        "                plt.text(i, v + 0.02, f\"{v:.2f}\", ha='center')\n",
        "            plt.savefig('results/plots/bias_accuracy.png', bbox_inches='tight')\n",
        "            plt.show()\n",
        "            plt.close()\n",
        "\n",
        "            # FPR chart\n",
        "            plt.figure(figsize=(8, 5))\n",
        "            plt.bar(['Left-Wing', 'Right-Wing'], [fpr_left, fpr_right], color=['#4C72B0', '#C44E52'], alpha=0.8)\n",
        "            plt.ylabel('False Positive Rate (FPR)')\n",
        "            plt.title('FPR by Political Ideology')\n",
        "            plt.ylim(0, 1.1)\n",
        "            for i, v in enumerate([fpr_left, fpr_right]):\n",
        "                plt.text(i, v + 0.02, f\"{v:.2f}\", ha='center')\n",
        "            plt.savefig('results/plots/bias_fpr.png', bbox_inches='tight')\n",
        "            plt.show()\n",
        "            plt.close()\n",
        "\n",
        "            print(\" Bias analysis plots saved and displayed.\")\n",
        "    except Exception as e:\n",
        "        logger.warning(f\"Plot generation failed: {e}\")\n",
        "\n",
        "    print(\" Capstone project completed successfully! All results saved to /results/\")\n",
        "\n",
        "if __name__ == \"__main__\":\n",
        "    main()"
      ],
      "metadata": {
        "colab": {
          "base_uri": "https://localhost:8080/",
          "height": 1000
        },
        "id": "Y_yzSRKoFemC",
        "outputId": "c18569de-2bf1-44a8-cf45-5c8fd53d9668"
      },
      "execution_count": 9,
      "outputs": [
        {
          "output_type": "stream",
          "name": "stdout",
          "text": [
            "\n",
            "==================================================\n",
            " Running experiment with seed=42\n",
            "==================================================\n",
            "\n",
            "Class distribution after preprocessing (seed=42):\n",
            "label\n",
            "0    0.50545\n",
            "1    0.49455\n",
            "Name: proportion, dtype: float64\n"
          ]
        },
        {
          "output_type": "stream",
          "name": "stderr",
          "text": [
            "Some weights of BertForSequenceClassification were not initialized from the model checkpoint at bert-base-uncased and are newly initialized: ['classifier.bias', 'classifier.weight']\n",
            "You should probably TRAIN this model on a down-stream task to be able to use it for predictions and inference.\n"
          ]
        },
        {
          "output_type": "stream",
          "name": "stdout",
          "text": [
            " Starting BERT-BASE-UNCASED training (seed=42)...\n"
          ]
        },
        {
          "output_type": "display_data",
          "data": {
            "text/plain": [
              "<IPython.core.display.HTML object>"
            ],
            "text/html": [
              "\n",
              "    <div>\n",
              "      \n",
              "      <progress value='594' max='792' style='width:300px; height:20px; vertical-align: middle;'></progress>\n",
              "      [594/792 02:12 < 00:44, 4.48 it/s, Epoch 3/4]\n",
              "    </div>\n",
              "    <table border=\"1\" class=\"dataframe\">\n",
              "  <thead>\n",
              " <tr style=\"text-align: left;\">\n",
              "      <th>Epoch</th>\n",
              "      <th>Training Loss</th>\n",
              "      <th>Validation Loss</th>\n",
              "      <th>Accuracy</th>\n",
              "      <th>F1</th>\n",
              "      <th>Precision</th>\n",
              "      <th>Recall</th>\n",
              "    </tr>\n",
              "  </thead>\n",
              "  <tbody>\n",
              "    <tr>\n",
              "      <td>1</td>\n",
              "      <td>0.030900</td>\n",
              "      <td>0.021871</td>\n",
              "      <td>0.996835</td>\n",
              "      <td>0.996835</td>\n",
              "      <td>0.996855</td>\n",
              "      <td>0.996835</td>\n",
              "    </tr>\n",
              "    <tr>\n",
              "      <td>2</td>\n",
              "      <td>0.001300</td>\n",
              "      <td>0.021310</td>\n",
              "      <td>0.996835</td>\n",
              "      <td>0.996835</td>\n",
              "      <td>0.996855</td>\n",
              "      <td>0.996835</td>\n",
              "    </tr>\n",
              "    <tr>\n",
              "      <td>3</td>\n",
              "      <td>0.001000</td>\n",
              "      <td>0.019775</td>\n",
              "      <td>0.996835</td>\n",
              "      <td>0.996835</td>\n",
              "      <td>0.996855</td>\n",
              "      <td>0.996835</td>\n",
              "    </tr>\n",
              "  </tbody>\n",
              "</table><p>"
            ]
          },
          "metadata": {}
        },
        {
          "output_type": "display_data",
          "data": {
            "text/plain": [
              "<IPython.core.display.HTML object>"
            ],
            "text/html": []
          },
          "metadata": {}
        },
        {
          "output_type": "stream",
          "name": "stderr",
          "text": [
            "Some weights of DistilBertForSequenceClassification were not initialized from the model checkpoint at distilbert-base-uncased and are newly initialized: ['classifier.bias', 'classifier.weight', 'pre_classifier.bias', 'pre_classifier.weight']\n",
            "You should probably TRAIN this model on a down-stream task to be able to use it for predictions and inference.\n"
          ]
        },
        {
          "output_type": "stream",
          "name": "stdout",
          "text": [
            " Starting DISTILBERT-BASE-UNCASED training (seed=42)...\n"
          ]
        },
        {
          "output_type": "display_data",
          "data": {
            "text/plain": [
              "<IPython.core.display.HTML object>"
            ],
            "text/html": [
              "\n",
              "    <div>\n",
              "      \n",
              "      <progress value='594' max='792' style='width:300px; height:20px; vertical-align: middle;'></progress>\n",
              "      [594/792 01:20 < 00:26, 7.37 it/s, Epoch 3/4]\n",
              "    </div>\n",
              "    <table border=\"1\" class=\"dataframe\">\n",
              "  <thead>\n",
              " <tr style=\"text-align: left;\">\n",
              "      <th>Epoch</th>\n",
              "      <th>Training Loss</th>\n",
              "      <th>Validation Loss</th>\n",
              "      <th>Accuracy</th>\n",
              "      <th>F1</th>\n",
              "      <th>Precision</th>\n",
              "      <th>Recall</th>\n",
              "    </tr>\n",
              "  </thead>\n",
              "  <tbody>\n",
              "    <tr>\n",
              "      <td>1</td>\n",
              "      <td>0.002700</td>\n",
              "      <td>0.020156</td>\n",
              "      <td>0.996835</td>\n",
              "      <td>0.996835</td>\n",
              "      <td>0.996855</td>\n",
              "      <td>0.996835</td>\n",
              "    </tr>\n",
              "    <tr>\n",
              "      <td>2</td>\n",
              "      <td>0.001700</td>\n",
              "      <td>0.019601</td>\n",
              "      <td>0.996835</td>\n",
              "      <td>0.996835</td>\n",
              "      <td>0.996855</td>\n",
              "      <td>0.996835</td>\n",
              "    </tr>\n",
              "    <tr>\n",
              "      <td>3</td>\n",
              "      <td>0.001300</td>\n",
              "      <td>0.012596</td>\n",
              "      <td>0.996835</td>\n",
              "      <td>0.996835</td>\n",
              "      <td>0.996855</td>\n",
              "      <td>0.996835</td>\n",
              "    </tr>\n",
              "  </tbody>\n",
              "</table><p>"
            ]
          },
          "metadata": {}
        },
        {
          "output_type": "display_data",
          "data": {
            "text/plain": [
              "<IPython.core.display.HTML object>"
            ],
            "text/html": []
          },
          "metadata": {}
        },
        {
          "output_type": "stream",
          "name": "stdout",
          "text": [
            "\n",
            "==================================================\n",
            " Running experiment with seed=123\n",
            "==================================================\n",
            "\n",
            "Class distribution after preprocessing (seed=123):\n",
            "label\n",
            "0    0.505322\n",
            "1    0.494678\n",
            "Name: proportion, dtype: float64\n"
          ]
        },
        {
          "output_type": "stream",
          "name": "stderr",
          "text": [
            "Some weights of BertForSequenceClassification were not initialized from the model checkpoint at bert-base-uncased and are newly initialized: ['classifier.bias', 'classifier.weight']\n",
            "You should probably TRAIN this model on a down-stream task to be able to use it for predictions and inference.\n"
          ]
        },
        {
          "output_type": "stream",
          "name": "stdout",
          "text": [
            " Starting BERT-BASE-UNCASED training (seed=123)...\n"
          ]
        },
        {
          "output_type": "display_data",
          "data": {
            "text/plain": [
              "<IPython.core.display.HTML object>"
            ],
            "text/html": [
              "\n",
              "    <div>\n",
              "      \n",
              "      <progress value='594' max='792' style='width:300px; height:20px; vertical-align: middle;'></progress>\n",
              "      [594/792 02:01 < 00:40, 4.86 it/s, Epoch 3/4]\n",
              "    </div>\n",
              "    <table border=\"1\" class=\"dataframe\">\n",
              "  <thead>\n",
              " <tr style=\"text-align: left;\">\n",
              "      <th>Epoch</th>\n",
              "      <th>Training Loss</th>\n",
              "      <th>Validation Loss</th>\n",
              "      <th>Accuracy</th>\n",
              "      <th>F1</th>\n",
              "      <th>Precision</th>\n",
              "      <th>Recall</th>\n",
              "    </tr>\n",
              "  </thead>\n",
              "  <tbody>\n",
              "    <tr>\n",
              "      <td>1</td>\n",
              "      <td>0.000600</td>\n",
              "      <td>0.024874</td>\n",
              "      <td>0.996835</td>\n",
              "      <td>0.996835</td>\n",
              "      <td>0.996855</td>\n",
              "      <td>0.996835</td>\n",
              "    </tr>\n",
              "    <tr>\n",
              "      <td>2</td>\n",
              "      <td>0.038800</td>\n",
              "      <td>0.025085</td>\n",
              "      <td>0.996835</td>\n",
              "      <td>0.996835</td>\n",
              "      <td>0.996855</td>\n",
              "      <td>0.996835</td>\n",
              "    </tr>\n",
              "    <tr>\n",
              "      <td>3</td>\n",
              "      <td>0.031000</td>\n",
              "      <td>0.011689</td>\n",
              "      <td>0.996835</td>\n",
              "      <td>0.996835</td>\n",
              "      <td>0.996855</td>\n",
              "      <td>0.996835</td>\n",
              "    </tr>\n",
              "  </tbody>\n",
              "</table><p>"
            ]
          },
          "metadata": {}
        },
        {
          "output_type": "display_data",
          "data": {
            "text/plain": [
              "<IPython.core.display.HTML object>"
            ],
            "text/html": []
          },
          "metadata": {}
        },
        {
          "output_type": "stream",
          "name": "stderr",
          "text": [
            "Some weights of DistilBertForSequenceClassification were not initialized from the model checkpoint at distilbert-base-uncased and are newly initialized: ['classifier.bias', 'classifier.weight', 'pre_classifier.bias', 'pre_classifier.weight']\n",
            "You should probably TRAIN this model on a down-stream task to be able to use it for predictions and inference.\n"
          ]
        },
        {
          "output_type": "stream",
          "name": "stdout",
          "text": [
            " Starting DISTILBERT-BASE-UNCASED training (seed=123)...\n"
          ]
        },
        {
          "output_type": "display_data",
          "data": {
            "text/plain": [
              "<IPython.core.display.HTML object>"
            ],
            "text/html": [
              "\n",
              "    <div>\n",
              "      \n",
              "      <progress value='594' max='792' style='width:300px; height:20px; vertical-align: middle;'></progress>\n",
              "      [594/792 01:36 < 00:32, 6.11 it/s, Epoch 3/4]\n",
              "    </div>\n",
              "    <table border=\"1\" class=\"dataframe\">\n",
              "  <thead>\n",
              " <tr style=\"text-align: left;\">\n",
              "      <th>Epoch</th>\n",
              "      <th>Training Loss</th>\n",
              "      <th>Validation Loss</th>\n",
              "      <th>Accuracy</th>\n",
              "      <th>F1</th>\n",
              "      <th>Precision</th>\n",
              "      <th>Recall</th>\n",
              "    </tr>\n",
              "  </thead>\n",
              "  <tbody>\n",
              "    <tr>\n",
              "      <td>1</td>\n",
              "      <td>0.002200</td>\n",
              "      <td>0.022788</td>\n",
              "      <td>0.996835</td>\n",
              "      <td>0.996835</td>\n",
              "      <td>0.996855</td>\n",
              "      <td>0.996835</td>\n",
              "    </tr>\n",
              "    <tr>\n",
              "      <td>2</td>\n",
              "      <td>0.010800</td>\n",
              "      <td>0.033110</td>\n",
              "      <td>0.993671</td>\n",
              "      <td>0.993670</td>\n",
              "      <td>0.993749</td>\n",
              "      <td>0.993671</td>\n",
              "    </tr>\n",
              "    <tr>\n",
              "      <td>3</td>\n",
              "      <td>0.000500</td>\n",
              "      <td>0.018002</td>\n",
              "      <td>0.996835</td>\n",
              "      <td>0.996835</td>\n",
              "      <td>0.996855</td>\n",
              "      <td>0.996835</td>\n",
              "    </tr>\n",
              "  </tbody>\n",
              "</table><p>"
            ]
          },
          "metadata": {}
        },
        {
          "output_type": "display_data",
          "data": {
            "text/plain": [
              "<IPython.core.display.HTML object>"
            ],
            "text/html": []
          },
          "metadata": {}
        },
        {
          "output_type": "stream",
          "name": "stdout",
          "text": [
            "\n",
            "==================================================\n",
            " Running experiment with seed=456\n",
            "==================================================\n",
            "\n",
            "Class distribution after preprocessing (seed=456):\n",
            "label\n",
            "0    0.504798\n",
            "1    0.495202\n",
            "Name: proportion, dtype: float64\n"
          ]
        },
        {
          "output_type": "stream",
          "name": "stderr",
          "text": [
            "Some weights of BertForSequenceClassification were not initialized from the model checkpoint at bert-base-uncased and are newly initialized: ['classifier.bias', 'classifier.weight']\n",
            "You should probably TRAIN this model on a down-stream task to be able to use it for predictions and inference.\n"
          ]
        },
        {
          "output_type": "stream",
          "name": "stdout",
          "text": [
            " Starting BERT-BASE-UNCASED training (seed=456)...\n"
          ]
        },
        {
          "output_type": "display_data",
          "data": {
            "text/plain": [
              "<IPython.core.display.HTML object>"
            ],
            "text/html": [
              "\n",
              "    <div>\n",
              "      \n",
              "      <progress value='594' max='792' style='width:300px; height:20px; vertical-align: middle;'></progress>\n",
              "      [594/792 02:20 < 00:46, 4.22 it/s, Epoch 3/4]\n",
              "    </div>\n",
              "    <table border=\"1\" class=\"dataframe\">\n",
              "  <thead>\n",
              " <tr style=\"text-align: left;\">\n",
              "      <th>Epoch</th>\n",
              "      <th>Training Loss</th>\n",
              "      <th>Validation Loss</th>\n",
              "      <th>Accuracy</th>\n",
              "      <th>F1</th>\n",
              "      <th>Precision</th>\n",
              "      <th>Recall</th>\n",
              "    </tr>\n",
              "  </thead>\n",
              "  <tbody>\n",
              "    <tr>\n",
              "      <td>1</td>\n",
              "      <td>0.039700</td>\n",
              "      <td>0.000584</td>\n",
              "      <td>1.000000</td>\n",
              "      <td>1.000000</td>\n",
              "      <td>1.000000</td>\n",
              "      <td>1.000000</td>\n",
              "    </tr>\n",
              "    <tr>\n",
              "      <td>2</td>\n",
              "      <td>0.000300</td>\n",
              "      <td>0.000169</td>\n",
              "      <td>1.000000</td>\n",
              "      <td>1.000000</td>\n",
              "      <td>1.000000</td>\n",
              "      <td>1.000000</td>\n",
              "    </tr>\n",
              "    <tr>\n",
              "      <td>3</td>\n",
              "      <td>0.000200</td>\n",
              "      <td>0.000102</td>\n",
              "      <td>1.000000</td>\n",
              "      <td>1.000000</td>\n",
              "      <td>1.000000</td>\n",
              "      <td>1.000000</td>\n",
              "    </tr>\n",
              "  </tbody>\n",
              "</table><p>"
            ]
          },
          "metadata": {}
        },
        {
          "output_type": "display_data",
          "data": {
            "text/plain": [
              "<IPython.core.display.HTML object>"
            ],
            "text/html": []
          },
          "metadata": {}
        },
        {
          "output_type": "stream",
          "name": "stderr",
          "text": [
            "Some weights of DistilBertForSequenceClassification were not initialized from the model checkpoint at distilbert-base-uncased and are newly initialized: ['classifier.bias', 'classifier.weight', 'pre_classifier.bias', 'pre_classifier.weight']\n",
            "You should probably TRAIN this model on a down-stream task to be able to use it for predictions and inference.\n"
          ]
        },
        {
          "output_type": "stream",
          "name": "stdout",
          "text": [
            " Starting DISTILBERT-BASE-UNCASED training (seed=456)...\n"
          ]
        },
        {
          "output_type": "display_data",
          "data": {
            "text/plain": [
              "<IPython.core.display.HTML object>"
            ],
            "text/html": [
              "\n",
              "    <div>\n",
              "      \n",
              "      <progress value='594' max='792' style='width:300px; height:20px; vertical-align: middle;'></progress>\n",
              "      [594/792 01:18 < 00:26, 7.51 it/s, Epoch 3/4]\n",
              "    </div>\n",
              "    <table border=\"1\" class=\"dataframe\">\n",
              "  <thead>\n",
              " <tr style=\"text-align: left;\">\n",
              "      <th>Epoch</th>\n",
              "      <th>Training Loss</th>\n",
              "      <th>Validation Loss</th>\n",
              "      <th>Accuracy</th>\n",
              "      <th>F1</th>\n",
              "      <th>Precision</th>\n",
              "      <th>Recall</th>\n",
              "    </tr>\n",
              "  </thead>\n",
              "  <tbody>\n",
              "    <tr>\n",
              "      <td>1</td>\n",
              "      <td>0.015800</td>\n",
              "      <td>0.001403</td>\n",
              "      <td>1.000000</td>\n",
              "      <td>1.000000</td>\n",
              "      <td>1.000000</td>\n",
              "      <td>1.000000</td>\n",
              "    </tr>\n",
              "    <tr>\n",
              "      <td>2</td>\n",
              "      <td>0.000600</td>\n",
              "      <td>0.000473</td>\n",
              "      <td>1.000000</td>\n",
              "      <td>1.000000</td>\n",
              "      <td>1.000000</td>\n",
              "      <td>1.000000</td>\n",
              "    </tr>\n",
              "    <tr>\n",
              "      <td>3</td>\n",
              "      <td>0.000400</td>\n",
              "      <td>0.000294</td>\n",
              "      <td>1.000000</td>\n",
              "      <td>1.000000</td>\n",
              "      <td>1.000000</td>\n",
              "      <td>1.000000</td>\n",
              "    </tr>\n",
              "  </tbody>\n",
              "</table><p>"
            ]
          },
          "metadata": {}
        },
        {
          "output_type": "display_data",
          "data": {
            "text/plain": [
              "<IPython.core.display.HTML object>"
            ],
            "text/html": []
          },
          "metadata": {}
        },
        {
          "output_type": "stream",
          "name": "stdout",
          "text": [
            "\n",
            " FINAL RESULTS (mean ± std):\n",
            "                     accuracy_mean  accuracy_std  f1_mean  f1_std  \\\n",
            "model                                                               \n",
            "BERT                        0.9970        0.0029   0.9970  0.0029   \n",
            "DistilBERT                  0.9975        0.0013   0.9975  0.0013   \n",
            "logistic_regression         0.9751        0.0045   0.9751  0.0045   \n",
            "naive_bayes                 0.9342        0.0122   0.9342  0.0122   \n",
            "random_forest               0.9865        0.0032   0.9865  0.0032   \n",
            "svm                         0.9722        0.0079   0.9722  0.0079   \n",
            "\n",
            "                     train_time_mean  train_time_std  inference_time_mean  \\\n",
            "model                                                                       \n",
            "BERT                        132.4339          9.4116               1.5850   \n",
            "DistilBERT                   85.9931         10.0926               0.8820   \n",
            "logistic_regression        1084.8328        143.0551               0.0518   \n",
            "naive_bayes                   0.6480          0.0060               0.0245   \n",
            "random_forest                19.4418          1.2195               0.1743   \n",
            "svm                         522.0271          3.9846               7.7839   \n",
            "\n",
            "                     inference_time_std  \n",
            "model                                    \n",
            "BERT                             0.0176  \n",
            "DistilBERT                       0.0007  \n",
            "logistic_regression              0.0048  \n",
            "naive_bayes                      0.0101  \n",
            "random_forest                    0.0346  \n",
            "svm                              0.3302  \n"
          ]
        },
        {
          "output_type": "display_data",
          "data": {
            "text/plain": [
              "<Figure size 1000x600 with 1 Axes>"
            ],
            "image/png": "[encoded data removed]"
          },
          "metadata": {}
        },
        {
          "output_type": "display_data",
          "data": {
            "text/plain": [
              "<Figure size 1000x600 with 1 Axes>"
            ],
            "image/png": "[encoded data removed]"
          },
          "metadata": {}
        },
        {
          "output_type": "display_data",
          "data": {
            "text/plain": [
              "<Figure size 1000x600 with 1 Axes>"
            ],
            "image/png": "[encoded data removed]"
          },
          "metadata": {}
        },
        {
          "output_type": "display_data",
          "data": {
            "text/plain": [
              "<Figure size 1000x600 with 1 Axes>"
            ],
            "image/png": "[encoded data removed]"
          },
          "metadata": {}
        },
        {
          "output_type": "display_data",
          "data": {
            "text/plain": [
              "<IPython.core.display.HTML object>"
            ],
            "text/html": []
          },
          "metadata": {}
        },
        {
          "output_type": "stream",
          "name": "stdout",
          "text": [
            "\n",
            " ETHICAL BIAS ANALYSIS:\n",
            "  Left-wing accuracy: 1.00, FPR: 0.00\n",
            "  Right-wing accuracy: 1.00, FPR: 0.00\n"
          ]
        },
        {
          "output_type": "display_data",
          "data": {
            "text/plain": [
              "<IPython.core.display.HTML object>"
            ],
            "text/html": []
          },
          "metadata": {}
        },
        {
          "output_type": "stream",
          "name": "stdout",
          "text": [
            " Misclassified examples saved.\n"
          ]
        },
        {
          "output_type": "display_data",
          "data": {
            "text/plain": [
              "<IPython.core.display.HTML object>"
            ],
            "text/html": []
          },
          "metadata": {}
        },
        {
          "output_type": "display_data",
          "data": {
            "text/plain": [
              "<Figure size 640x480 with 2 Axes>"
            ],
            "image/png": "[encoded data removed]"
          },
          "metadata": {}
        },
        {
          "output_type": "stream",
          "name": "stdout",
          "text": [
            " Confusion matrix plot saved and displayed.\n"
          ]
        },
        {
          "output_type": "display_data",
          "data": {
            "text/plain": [
              "<Figure size 800x500 with 1 Axes>"
            ],
            "image/png": "[encoded data removed]"
          },
          "metadata": {}
        },
        {
          "output_type": "display_data",
          "data": {
            "text/plain": [
              "<Figure size 800x500 with 1 Axes>"
            ],
            "image/png": "[encoded data removed]"
          },
          "metadata": {}
        },
        {
          "output_type": "stream",
          "name": "stdout",
          "text": [
            " Bias analysis plots saved and displayed.\n",
            " Capstone project completed successfully! All results saved to /results/\n"
          ]
        }
      ]
    }
  ]
}